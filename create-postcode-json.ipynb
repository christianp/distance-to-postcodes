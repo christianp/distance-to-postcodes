{
 "cells": [
  {
   "cell_type": "code",
   "execution_count": null,
   "metadata": {},
   "outputs": [],
   "source": [
    "centre = 'ne26 3dx'"
   ]
  },
  {
   "cell_type": "code",
   "execution_count": 14,
   "metadata": {},
   "outputs": [],
   "source": [
    "from geopy.distance import distance as gdistance\n",
    "import csv"
   ]
  },
  {
   "cell_type": "code",
   "execution_count": 34,
   "metadata": {},
   "outputs": [],
   "source": [
    "fieldnames = 'postcode status usertype easting northing positional_quality_indicator country latitude longitude postcode_no_space postcode_fixed_width_seven postcode_fixed_width_eight postcode_area postcode_district postcode_sector outcode incode'.split(' ')\n",
    "positions = {}\n",
    "with open('open_postcode_geo.csv') as f:\n",
    "    r = csv.DictReader(f,fieldnames)\n",
    "    for row in r:\n",
    "        positions[row['postcode']] = (row['latitude'],row['longitude'])\n",
    "    "
   ]
  },
  {
   "cell_type": "code",
   "execution_count": 22,
   "metadata": {},
   "outputs": [],
   "source": [
    "import json\n",
    "with open('postcodes.json','w') as f:\n",
    "    f.write(json.dumps(positions))"
   ]
  },
  {
   "cell_type": "code",
   "execution_count": 11,
   "metadata": {},
   "outputs": [],
   "source": [
    "def pos(postcode):\n",
    "    postcode = postcode.upper()\n",
    "    return positions[postcode]"
   ]
  },
  {
   "cell_type": "code",
   "execution_count": 20,
   "metadata": {},
   "outputs": [],
   "source": [
    "def distance(a,b):\n",
    "    pa = pos(a)\n",
    "    pb = pos(b)\n",
    "    return gdistance(pa,pb).miles"
   ]
  },
  {
   "cell_type": "code",
   "execution_count": 35,
   "metadata": {},
   "outputs": [],
   "source": [
    "from itertools import groupby\n",
    "from collections import defaultdict\n",
    "import re\n",
    "positions_by_first_letters = defaultdict(dict)\n",
    "r = re.compile(r'^[A-Z]+')\n",
    "for code,pos in positions.items():\n",
    "    letters = r.match(code).group()\n",
    "    positions_by_first_letters[letters][code] = pos\n",
    "    "
   ]
  },
  {
   "cell_type": "code",
   "execution_count": 37,
   "metadata": {},
   "outputs": [],
   "source": [
    "for k,d in positions_by_first_letters.items():\n",
    "    with open('postcodes-{}.json'.format(k),'w') as f:\n",
    "        f.write(json.dumps(d))"
   ]
  }
 ],
 "metadata": {
  "kernelspec": {
   "display_name": "Python 3",
   "language": "python",
   "name": "python3"
  },
  "language_info": {
   "codemirror_mode": {
    "name": "ipython",
    "version": 3
   },
   "file_extension": ".py",
   "mimetype": "text/x-python",
   "name": "python",
   "nbconvert_exporter": "python",
   "pygments_lexer": "ipython3",
   "version": "3.5.2"
  }
 },
 "nbformat": 4,
 "nbformat_minor": 2
}
